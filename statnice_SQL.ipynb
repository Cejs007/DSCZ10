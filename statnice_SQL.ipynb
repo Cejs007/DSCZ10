{
 "cells": [
  {
   "cell_type": "code",
   "execution_count": 1,
   "metadata": {},
   "outputs": [],
   "source": [
    "import mysql.connector\n",
    "from sql_queries.sql_queries import retrieve_table, pridej_studenta, vytvor_predmet, prihlas_studenta_na_statnice, zapis_vysledek_predmetu_studentovi\n",
    "from faker import Faker"
   ]
  },
  {
   "cell_type": "code",
   "execution_count": 2,
   "metadata": {},
   "outputs": [],
   "source": [
    "#connect to mysql db using mysql.connector\n",
    "mydb = mysql.connector.connect(\n",
    "    host=\"localhost\",\n",
    "    user=\"root\",\n",
    "    password=\"root\",\n",
    "    database=\"statnice\",\n",
    "    autocommit=True\n",
    ")"
   ]
  },
  {
   "cell_type": "code",
   "execution_count": 3,
   "metadata": {},
   "outputs": [],
   "source": [
    "#vygenerujeme náhodné studenty\n",
    "def vygeneruj_nahodneho_studenta():\n",
    "    fake = Faker()\n",
    "\n",
    "    jmeno = fake.first_name()\n",
    "    prijmeni = fake.last_name()\n",
    "\n",
    "    return {\"jmeno\": jmeno, \"prijmeni\" :prijmeni}"
   ]
  },
  {
   "cell_type": "code",
   "execution_count": 4,
   "metadata": {},
   "outputs": [],
   "source": [
    "def pridej_do_tabulky(tabulka, data, mycursor):\n",
    "\n",
    "    mycursor.execute(pridej_studenta(data[\"jmeno\"], data[\"prijmeni\"]))\n",
    "    mycursor.execute(retrieve_table(tabulka))\n",
    "\n",
    "    for x in mycursor:\n",
    "        print(x)"
   ]
  },
  {
   "cell_type": "code",
   "execution_count": 5,
   "metadata": {},
   "outputs": [],
   "source": [
    "mycursor = mydb.cursor()"
   ]
  },
  {
   "cell_type": "code",
   "execution_count": 6,
   "metadata": {},
   "outputs": [
    {
     "name": "stdout",
     "output_type": "stream",
     "text": [
      "(1, 'Shannon', 'Henderson')\n",
      "(2, 'Richard', 'Foster')\n",
      "(3, 'Kenneth', 'Perez')\n",
      "(4, 'Douglas', 'Mcdowell')\n",
      "(5, 'Brenda', 'Johnson')\n",
      "(6, 'Andrew', 'Watkins')\n"
     ]
    }
   ],
   "source": [
    "student = vygeneruj_nahodneho_studenta()\n",
    "pridej_do_tabulky(\"student\", student, mycursor)"
   ]
  },
  {
   "cell_type": "code",
   "execution_count": 7,
   "metadata": {},
   "outputs": [
    {
     "name": "stdout",
     "output_type": "stream",
     "text": [
      "(1, 'Matematika', 60)\n",
      "(2, 'Matematika', 60)\n",
      "(3, 'Matematika', 60)\n",
      "(4, 'Matematika', 60)\n",
      "(5, 'Fyzika', 50)\n",
      "(6, 'Fyzika', 60)\n",
      "(7, 'Python', 80)\n"
     ]
    }
   ],
   "source": [
    "predmet_sql = vytvor_predmet(\"Python\", 80)\n",
    "mycursor.execute(predmet_sql)\n",
    "mycursor.execute(retrieve_table(\"predmet\"))\n",
    "\n",
    "for x in mycursor:\n",
    "    print(x)"
   ]
  },
  {
   "cell_type": "code",
   "execution_count": 8,
   "metadata": {},
   "outputs": [],
   "source": [
    "sql_statnice = prihlas_studenta_na_statnice(\"Mcdowell\", \"2024-07-04\", mycursor)"
   ]
  },
  {
   "cell_type": "code",
   "execution_count": 9,
   "metadata": {},
   "outputs": [
    {
     "name": "stdout",
     "output_type": "stream",
     "text": [
      "(1, datetime.date(2024, 7, 4), 0, 3)\n",
      "(2, datetime.date(2024, 7, 4), 0, 5)\n",
      "(3, datetime.date(2024, 7, 4), 0, 4)\n"
     ]
    }
   ],
   "source": [
    "mycursor.execute(sql_statnice)\n",
    "mycursor.execute(retrieve_table(\"statnice\"))\n",
    "\n",
    "for x in mycursor:\n",
    "    print(x)"
   ]
  },
  {
   "cell_type": "code",
   "execution_count": 10,
   "metadata": {},
   "outputs": [],
   "source": [
    "sql_vysledek = zapis_vysledek_predmetu_studentovi(\"Johnson\", \"Python\", 90, mycursor)"
   ]
  },
  {
   "cell_type": "code",
   "execution_count": 13,
   "metadata": {},
   "outputs": [
    {
     "name": "stdout",
     "output_type": "stream",
     "text": [
      "(1, 90, 7, 5)\n"
     ]
    }
   ],
   "source": [
    "mycursor.execute(sql_vysledek)\n",
    "mycursor.execute(retrieve_table(\"vysledek\"))\n",
    "\n",
    "for x in mycursor:\n",
    "    print(x)"
   ]
  },
  {
   "cell_type": "code",
   "execution_count": null,
   "metadata": {},
   "outputs": [],
   "source": []
  }
 ],
 "metadata": {
  "kernelspec": {
   "display_name": "SQL",
   "language": "python",
   "name": "python3"
  },
  "language_info": {
   "codemirror_mode": {
    "name": "ipython",
    "version": 3
   },
   "file_extension": ".py",
   "mimetype": "text/x-python",
   "name": "python",
   "nbconvert_exporter": "python",
   "pygments_lexer": "ipython3",
   "version": "3.10.11"
  }
 },
 "nbformat": 4,
 "nbformat_minor": 2
}
