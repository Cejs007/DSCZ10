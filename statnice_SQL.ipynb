{
 "cells": [
  {
   "cell_type": "code",
   "execution_count": 1,
   "metadata": {},
   "outputs": [],
   "source": [
    "import mysql.connector\n",
    "from sql_queries.sql_queries import zobraz_obsah_tabulky, pridej_studenta, vytvor_predmet, prihlas_studenta_na_statnice, zapis_vysledek_predmetu_studentovi\n",
    "from faker import Faker"
   ]
  },
  {
   "cell_type": "code",
   "execution_count": 2,
   "metadata": {},
   "outputs": [],
   "source": [
    "#connect to mysql db using mysql.connector\n",
    "mydb = mysql.connector.connect(\n",
    "    host=\"localhost\",\n",
    "    user=\"root\",\n",
    "    password=\"root\",\n",
    "    database=\"statnice\",\n",
    "    autocommit=True\n",
    ")"
   ]
  },
  {
   "cell_type": "code",
   "execution_count": 3,
   "metadata": {},
   "outputs": [],
   "source": [
    "#reference for executing SQL\n",
    "mycursor = mydb.cursor()"
   ]
  },
  {
   "cell_type": "code",
   "execution_count": 4,
   "metadata": {},
   "outputs": [],
   "source": [
    "#vygenerujeme náhodné studenty\n",
    "def vygeneruj_nahodneho_studenta():\n",
    "    fake = Faker()\n",
    "\n",
    "    jmeno = fake.first_name()\n",
    "    prijmeni = fake.last_name()\n",
    "\n",
    "    return {\"jmeno\": jmeno, \"prijmeni\" :prijmeni}"
   ]
  },
  {
   "cell_type": "code",
   "execution_count": 5,
   "metadata": {},
   "outputs": [
    {
     "data": {
      "text/plain": [
       "{'jmeno': 'Joseph', 'prijmeni': 'Joyce'}"
      ]
     },
     "execution_count": 5,
     "metadata": {},
     "output_type": "execute_result"
    }
   ],
   "source": [
    "student_slovnik = vygeneruj_nahodneho_studenta()\n",
    "student_slovnik"
   ]
  },
  {
   "cell_type": "code",
   "execution_count": 6,
   "metadata": {},
   "outputs": [],
   "source": [
    "#vygeneruj sql typu insert pro přidání studenta\n",
    "sql_student = pridej_studenta(student_slovnik[\"jmeno\"], student_slovnik[\"prijmeni\"])\n",
    "mycursor.execute(sql_student)\n",
    "\n",
    "mycursor.execute(zobraz_obsah_tabulky(\"student\"))\n",
    "\n",
    "for x in mycursor:\n",
    "    print(x)"
   ]
  },
  {
   "cell_type": "code",
   "execution_count": 7,
   "metadata": {},
   "outputs": [
    {
     "name": "stdout",
     "output_type": "stream",
     "text": [
      "(1, 'Matematika', 60)\n",
      "(2, 'Matematika', 60)\n",
      "(3, 'Matematika', 60)\n",
      "(4, 'Matematika', 60)\n",
      "(5, 'Fyzika', 50)\n",
      "(6, 'Fyzika', 60)\n",
      "(7, 'Python', 80)\n"
     ]
    }
   ],
   "source": [
    "#vygeneruj sql pro přidání předmětu\n",
    "predmet_sql = vytvor_predmet(\"Python\", 80)\n",
    "mycursor.execute(predmet_sql)\n",
    "mycursor.execute(zobraz_obsah_tabulky(\"predmet\"))\n",
    "\n",
    "for x in mycursor:\n",
    "    print(x)"
   ]
  },
  {
   "cell_type": "code",
   "execution_count": 8,
   "metadata": {},
   "outputs": [],
   "source": [
    "#vygeneruj sql pro přidání statnic\n",
    "sql_statnice = prihlas_studenta_na_statnice(\"Mcdowell\", \"2024-07-04\", mycursor)\n",
    "mycursor.execute(sql_statnice)\n",
    "mycursor.execute(zobraz_obsah_tabulky(\"statnice\"))\n",
    "\n",
    "for x in mycursor:\n",
    "    print(x)"
   ]
  },
  {
   "cell_type": "code",
   "execution_count": 10,
   "metadata": {},
   "outputs": [],
   "source": [
    "#vygeneruj sql pro přidání vyledku\n",
    "sql_vysledek = zapis_vysledek_predmetu_studentovi(\"Johnson\", \"Python\", 90, mycursor)\n",
    "mycursor.execute(sql_vysledek)\n",
    "mycursor.execute(zobraz_obsah_tabulky(\"vysledek\"))\n",
    "\n",
    "for x in mycursor:\n",
    "    print(x)"
   ]
  }
 ],
 "metadata": {
  "kernelspec": {
   "display_name": "SQL",
   "language": "python",
   "name": "python3"
  },
  "language_info": {
   "codemirror_mode": {
    "name": "ipython",
    "version": 3
   },
   "file_extension": ".py",
   "mimetype": "text/x-python",
   "name": "python",
   "nbconvert_exporter": "python",
   "pygments_lexer": "ipython3",
   "version": "3.10.11"
  }
 },
 "nbformat": 4,
 "nbformat_minor": 2
}
